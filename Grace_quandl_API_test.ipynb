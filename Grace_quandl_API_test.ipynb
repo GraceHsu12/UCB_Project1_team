{
 "cells": [
  {
   "cell_type": "markdown",
   "metadata": {},
   "source": [
    "# Quandl API and export the results into csv file\n",
    "\n",
    "Format:https://www.quandl.com/api/v3/datatables/{DataProductCode}/{datatable_code}?qopts.export=true&api_key=YOURAPIKEY\n",
    "\n",
    "* Data product code: WIKI (End of Day US Stock prices)\n",
    "* datatable_code for WIKI: PRICES\n",
    "* [See this link for data product codes](https://docs.quandl.com/docs/data-organization)\n",
    "\n",
    "Sample: https://www.quandl.com/api/v3/datatables/WIKI/PRICES?qopts.export=true&api_key=YOURAPIKEY\n",
    "\n",
    "qopts.export=true --> This code is a csv table exporter, since a call will most likely not be able to grab all the data you want\n",
    "\n",
    "##### MAXIMUM 10 bulk downloads with exporter per hour\n",
    "\n",
    "The generated link to download will only ast for 2 min before it expires. Then you have to perform another API call."
   ]
  },
  {
   "cell_type": "markdown",
   "metadata": {},
   "source": [
    "run this API call to get list of all tickers found in WIKI database: \n",
    "https://www.quandl.com/api/v3/databases/WIKI/codes?api_key=YuSp1-_PFQ2BVadMQVtk"
   ]
  },
  {
   "cell_type": "markdown",
   "metadata": {},
   "source": []
  },
  {
   "cell_type": "code",
   "execution_count": null,
   "metadata": {},
   "outputs": [],
   "source": [
    "base_url = \"https://www.quandl.com/api/v3/datatables/WIKI/Prices?api_key={api_key}&ticker=\"\n",
    "\n",
    "\n"
   ]
  },
  {
   "cell_type": "code",
   "execution_count": null,
   "metadata": {},
   "outputs": [],
   "source": []
  },
  {
   "cell_type": "markdown",
   "metadata": {},
   "source": [
    "# From Quandl Library: Table call\n",
    "\n",
    "* Use Quandl library method: .get_table()\n",
    "\n",
    "import quandl\n",
    "quandl.ApiConfig.api_key = \"YOURAPIKEY\"\n",
    "data = quandl.get_table(DataProductCode/Datatable_code, filter = ____, paginate=true)\n",
    "\n",
    "filters: \n",
    "* compnumber\n",
    "* mapcode\n",
    "* reportdate\n",
    "\n",
    "paginate=true --> Allows you to exend the limit of rows per call to 1,000,000\n",
    "\n",
    "Samples:\n",
    "\n",
    "https://docs.quandl.com/docs/python-tables\n",
    "\n"
   ]
  },
  {
   "cell_type": "markdown",
   "metadata": {},
   "source": [
    "# From Quandl Library: Time Series Call\n",
    "import quandl\n",
    "quandl.ApiConfig.api_key = \"YOURAPIKEY\"\n",
    "\n",
    "data = quandl.get(ZILLOW/{Area_Category}{Area_code}_{IndicatorCode}\n"
   ]
  },
  {
   "cell_type": "code",
   "execution_count": null,
   "metadata": {},
   "outputs": [],
   "source": []
  },
  {
   "cell_type": "code",
   "execution_count": null,
   "metadata": {},
   "outputs": [],
   "source": []
  }
 ],
 "metadata": {
  "kernelspec": {
   "display_name": "Python 3",
   "language": "python",
   "name": "python3"
  },
  "language_info": {
   "codemirror_mode": {
    "name": "ipython",
    "version": 3
   },
   "file_extension": ".py",
   "mimetype": "text/x-python",
   "name": "python",
   "nbconvert_exporter": "python",
   "pygments_lexer": "ipython3",
   "version": "3.7.0"
  }
 },
 "nbformat": 4,
 "nbformat_minor": 2
}
