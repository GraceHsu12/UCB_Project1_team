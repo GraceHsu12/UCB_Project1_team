{
 "cells": [
  {
   "cell_type": "markdown",
   "metadata": {},
   "source": [
    "# Stocks and Housing: How Local Can We Get?\n",
    "## Final Data Analysis\n",
    "Contributers: Sean Lane, Casey Hill, Grace Hsu\n",
    "\n",
    "UCB Extensions: Data Analytics Bootcamp\n",
    "\n",
    "Submission Date: 1/14/19"
   ]
  },
  {
   "cell_type": "markdown",
   "metadata": {},
   "source": [
    "## Hypothesis: Can a company’s stock price influence the housing market in their headquarters’ city?"
   ]
  },
  {
   "cell_type": "markdown",
   "metadata": {},
   "source": [
    "### Abstract:\n",
    "Current stock prices continue to fluctuate, and even more so in times of recession. In our last large recession in 2009, the housing market was the prime aggravator of the stock market plummet; causing both industries to crash. We sought out to see if this correlation could be localized to the housing market of a company’s headquarters, and if we could use previous market fluctuation to help us predict or understand future market fluctuations."
   ]
  },
  {
   "cell_type": "markdown",
   "metadata": {},
   "source": [
    "### Question 1: Are there correlations between a company's stock price and their headquarter location's housing price?\n"
   ]
  },
  {
   "cell_type": "markdown",
   "metadata": {},
   "source": [
    "14 companies from Forbes Fortune 1000 list were evaluated with each company being headquartered in a unique state in the USA and each company being the highest revenue earners from 2017. Stock price data and median housing price was gathered for each company and company headquarter location.  \n",
    "\n",
    "#### Pearson's r correlation was performed to determine the correlation between each company's monthly stock price and their headquarter location's monthly median housing price:\n",
    "* 13 of 14 companies with positive correlation (r>0) between a company's stock price and their headquarter location's median housing price. To note, Verizon (VZ) showed a weak positive correlation (r=0.19).\n",
    "    * Stock tickers: FDX, LVS, HUM, PFG, AMZN, VZ, XOM, HD\n",
    "* 1 company (Bank of America Corporation, BAC) showed negative correlation (r=-0.47), where housing price increased and stock price decreased."
   ]
  },
  {
   "cell_type": "markdown",
   "metadata": {},
   "source": [
    "![alt text](stats_data_graphs/stock_housing_correlation.png)"
   ]
  },
  {
   "cell_type": "markdown",
   "metadata": {},
   "source": [
    "### Supplement: Individual graphs (below) comparing a company's monthly stock price to their headquarter location's monthly median housing sold price from 2005 to 2015"
   ]
  },
  {
   "cell_type": "markdown",
   "metadata": {},
   "source": [
    "![alt text](stock_graph/AAPL_stock_line.png)\n",
    "#### Results: \n",
    "Location: Cupertino, CA\n",
    "\n",
    "Apple Inc stock had a strong positive correlation (r=0.87) between its stock price and Cupertino, CA housing price."
   ]
  },
  {
   "cell_type": "markdown",
   "metadata": {},
   "source": [
    "![alt text](stock_graph/AMZN_stock_line.png)\n",
    "Location: Seattle, WA\n",
    "\n",
    "Amazon, Inc stock had strong correlation (r=0.64) with Seattle, WA housing prices."
   ]
  },
  {
   "cell_type": "markdown",
   "metadata": {},
   "source": [
    "![alt text](stock_graph/BAC_stock_line.png)\n",
    "Location: Charlotte, NC\n",
    "\n",
    "Bank of America Corporation stock had a negative correlation (r=-0.47) with Charlotte, NC housing price. "
   ]
  },
  {
   "cell_type": "markdown",
   "metadata": {},
   "source": [
    "![alt text](stock_graph/FDX_stock_line.png)\n",
    "Location: Memphis, TN\n",
    "\n",
    "FedEx Coporation stock had a positive correlation (r=0.30) with Memphis, TN housing price."
   ]
  },
  {
   "cell_type": "markdown",
   "metadata": {},
   "source": [
    "![alt text](stock_graph/HA_stock_line.png)\n",
    "Location: Honolulu, HI\n",
    "\n",
    "Hawaiian Holdings, Inc stock had a positive correlation (r=0.56) with Honolulu, HI housing price."
   ]
  },
  {
   "cell_type": "markdown",
   "metadata": {},
   "source": [
    "![alt text](stock_graph/HD_stock_line.png)\n",
    "Location: Atlanta, GA\n",
    "\n",
    "Home Depot, Inc stock had positive correlation (r=0.73) with Atlanta, GA housing price.\n"
   ]
  },
  {
   "cell_type": "markdown",
   "metadata": {},
   "source": [
    "![alt text](stock_graph/HUM_stock_line.png)\n",
    "Location: Louisville, KY\n",
    "\n",
    "Humana, Inc stock had a positive correlation (r=0.79) with Louisville, KY housing price."
   ]
  },
  {
   "cell_type": "markdown",
   "metadata": {},
   "source": [
    "![alt text](stock_graph/LMT_stock_line.png)\n",
    "Location: Bethesda, MD\n",
    "\n",
    "Lockheed Martin Corp stock had a positive correlation (r=0.58) with Bethesda, MD housing price."
   ]
  },
  {
   "cell_type": "markdown",
   "metadata": {},
   "source": [
    "![alt text](stock_graph/LVS_stock_line.png)\n",
    "Location: Las Vegas, NV\n",
    "\n",
    "Las Vegas Sands Corp stock showed a positive correlation (r=0.48) with Las Vegas, NV housing price.\n"
   ]
  },
  {
   "cell_type": "markdown",
   "metadata": {},
   "source": [
    "![alt text](stock_graph/PFG_stock_line.png)\n",
    "Location: Des Moines, IA\n",
    "\n",
    "Principal Financial Group, Inc stock had a positive correlation (r=0.59) with Des Moines, IA housing price."
   ]
  },
  {
   "cell_type": "markdown",
   "metadata": {},
   "source": [
    "![alt text](stock_graph/VZ_stock_line.png)\n",
    "Location: New York, NY\n",
    "\n",
    "Verizon Communication, Inc stock had a weak positive correlation (r=0.19) with New York, NY housing price.\n"
   ]
  },
  {
   "cell_type": "markdown",
   "metadata": {},
   "source": [
    "![alt text](stock_graph/WBA_stock_line.png)\n",
    "Location: Deerfield, IL\n",
    "\n",
    "Walgreens Boots Alliance, Inc stock had a positive correlation (r=0.35) with Deerfield, IL housing price."
   ]
  },
  {
   "cell_type": "markdown",
   "metadata": {},
   "source": [
    "![alt text](stock_graph/WMT_stock_line.png)\n",
    "Location: Bentonville, AR\n",
    "\n",
    "Walmart, Inc stock had a positive correlation (r=0.32) with Bentonville, AR housing price."
   ]
  },
  {
   "cell_type": "markdown",
   "metadata": {},
   "source": [
    "![alt text](stock_graph/XOM_stock_line.png)\n",
    "Location: Irving, TX\n",
    "\n",
    "Exxon Mobil Corp stock had a positive correlation (r=0.72) with Irving, TX housing price."
   ]
  },
  {
   "cell_type": "markdown",
   "metadata": {},
   "source": [
    "### Question 2: Are there correlations between industry type and housing prices?"
   ]
  },
  {
   "cell_type": "markdown",
   "metadata": {},
   "source": [
    "The same 14 companies were divided into groups by their industry type (retail, financial, other, tech). Monthly stocks and housing prices were averaged per each group and pearson's r correlation were calculated and plotted below.\n",
    "* retail: HD, WBA, WMT\n",
    "* financial: BAC, HUM, PFG \n",
    "* other: FDX, HA, LVS\n",
    "* tech: AAPL, AMZN, LMT, VZ, XOM\n",
    "\n",
    "All industry types (retail, financial, other, tech) showed a positive correlation between stock price and housing prices. The tech industry had the strongest correlation (r=0.82)."
   ]
  },
  {
   "cell_type": "markdown",
   "metadata": {},
   "source": [
    "![alt text](stats_data_graphs/industry_correlation.png)"
   ]
  },
  {
   "cell_type": "markdown",
   "metadata": {},
   "source": [
    "### Supplement: Plotting average housing market and stock prices by industry type (retail, financial, other, tech)"
   ]
  },
  {
   "cell_type": "markdown",
   "metadata": {},
   "source": [
    "![alt text](stock_graph/Retail_line.png)"
   ]
  },
  {
   "cell_type": "markdown",
   "metadata": {},
   "source": [
    "![alt text](stock_graph/Financial_line.png)"
   ]
  },
  {
   "cell_type": "markdown",
   "metadata": {},
   "source": [
    "![alt text](stock_graph/Other_line.png)"
   ]
  },
  {
   "cell_type": "markdown",
   "metadata": {},
   "source": [
    "![alt text](stock_graph/Tech_line.png)"
   ]
  },
  {
   "cell_type": "markdown",
   "metadata": {},
   "source": [
    "## Conclusions"
   ]
  },
  {
   "cell_type": "markdown",
   "metadata": {},
   "source": [
    "In 13 of 14 companies that were evaluated, positive correlations were found between the stock price and headquarter city median housing price. This meant that as stock prices rose, housing prices also increased and vice versa in the same months. To determine if this correlation was more evident in specific industry types, the 14 companies were grouped by type (retail, financial, other, tech). Although all the industries showed positive correlations, the tech industry was the most correlated suggesting that the tech companies may have the most influence in housing prices in their headquarter city."
   ]
  }
 ],
 "metadata": {
  "kernelspec": {
   "display_name": "Python 3",
   "language": "python",
   "name": "python3"
  },
  "language_info": {
   "codemirror_mode": {
    "name": "ipython",
    "version": 3
   },
   "file_extension": ".py",
   "mimetype": "text/x-python",
   "name": "python",
   "nbconvert_exporter": "python",
   "pygments_lexer": "ipython3",
   "version": "3.7.0"
  }
 },
 "nbformat": 4,
 "nbformat_minor": 2
}
