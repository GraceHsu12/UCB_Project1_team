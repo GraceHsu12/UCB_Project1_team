{
 "cells": [
  {
   "cell_type": "code",
   "execution_count": null,
   "metadata": {},
   "outputs": [],
   "source": [
    "# Creating Graphs for industry type\n",
    "ind_type = tickers_df['industry_type']\n",
    "ind_tick = tickers_df['ticker']"
   ]
  },
  {
   "cell_type": "code",
   "execution_count": 102,
   "metadata": {
    "scrolled": true
   },
   "outputs": [],
   "source": [
    "# Creating Retail Average\n",
    "tech_df = pd.DataFrame({'Date':[]})\n",
    "tech_house = pd.DataFrame({'Date':[]})\n",
    "for x in ['HD', 'LVS']:\n",
    "    #Stock Data Averaging\n",
    "    stock_csv = pd.read_csv(f'stock_data/{x}_stock.csv')\n",
    "    value_stock = stock_csv['Close']\n",
    "    date_stock = stock_csv['Date']\n",
    "    tech_df[f'Value{x}'] = value_stock\n",
    "    # Housing Data Averaging\n",
    "    house_csv = pd.read_csv(f'house_data/{x}_housing.csv')\n",
    "    value_house = house_csv['Value']\n",
    "    date_house = house_csv['Date']\n",
    "    tech_house[f'Value{x}'] = value_house\n",
    "tech_df['Date'] = date_stock\n",
    "tech_house['Date'] = date_house\n",
    "\n",
    "tech_df.set_index('Date')\n",
    "tech_df['AVG'] = tech_df.mean(axis=1)\n",
    "tech_df.to_csv('industry_data/Retail_stock.csv')\n",
    "\n",
    "tech_house.set_index('Date')\n",
    "tech_house['houseAVG'] = tech_house.mean(axis=1)\n",
    "tech_house.to_csv('industry_data/Retail_house.csv')"
   ]
  },
  {
   "cell_type": "code",
   "execution_count": 103,
   "metadata": {
    "scrolled": true
   },
   "outputs": [],
   "source": [
    "# Financial Average\n",
    "tech_df = pd.DataFrame({'Date':[]})\n",
    "tech_house = pd.DataFrame({'Date':[]})\n",
    "for x in ['BAC', 'HUM', 'PFG']:\n",
    "    #Stock Data Averaging\n",
    "    stock_csv = pd.read_csv(f'stock_data/{x}_stock.csv')\n",
    "    value_stock = stock_csv['Close']\n",
    "    date_stock = stock_csv['Date']\n",
    "    tech_df[f'Value{x}'] = value_stock\n",
    "    # Housing Data Averaging\n",
    "    house_csv = pd.read_csv(f'house_data/{x}_housing.csv')\n",
    "    value_house = house_csv['Value']\n",
    "    date_house = house_csv['Date']\n",
    "    tech_house[f'Value{x}'] = value_house\n",
    "tech_df['Date'] = date_stock\n",
    "tech_house['Date'] = date_house\n",
    "\n",
    "tech_df.set_index('Date')\n",
    "tech_df['AVG'] = tech_df.mean(axis=1)\n",
    "tech_df.to_csv('industry_data/Financial_stock.csv')\n",
    "\n",
    "tech_house.set_index('Date')\n",
    "tech_house['houseAVG'] = tech_house.mean(axis=1)\n",
    "tech_house.to_csv('industry_data/Financial_house.csv')\n",
    "    # Add housing plot\n",
    "  \n"
   ]
  },
  {
   "cell_type": "code",
   "execution_count": 104,
   "metadata": {
    "scrolled": true
   },
   "outputs": [],
   "source": [
    "# 'Other' Average\n",
    "tech_df = pd.DataFrame({'Date':[]})\n",
    "tech_house = pd.DataFrame({'Date':[]})\n",
    "for x in ['CAH', 'FDX', 'HA', 'LVS']:\n",
    "    #Stock Data Averaging\n",
    "    stock_csv = pd.read_csv(f'stock_data/{x}_stock.csv')\n",
    "    value_stock = stock_csv['Close']\n",
    "    date_stock = stock_csv['Date']\n",
    "    tech_df[f'Value{x}'] = value_stock\n",
    "    # Housing Data Averaging\n",
    "    house_csv = pd.read_csv(f'house_data/{x}_housing.csv')\n",
    "    value_house = house_csv['Value']\n",
    "    date_house = house_csv['Date']\n",
    "    tech_house[f'Value{x}'] = value_house\n",
    "tech_df['Date'] = date_stock\n",
    "tech_house['Date'] = date_house\n",
    "\n",
    "tech_df.set_index('Date')\n",
    "tech_df['AVG'] = tech_df.mean(axis=1)\n",
    "tech_df.to_csv('industry_data/Other_stock.csv')\n",
    "\n",
    "tech_house.set_index('Date')\n",
    "tech_house['houseAVG'] = tech_house.mean(axis=1)\n",
    "tech_house.to_csv('industry_data/Other_house.csv')\n",
    "    # Add housing plot\n",
    "  \n"
   ]
  },
  {
   "cell_type": "code",
   "execution_count": 105,
   "metadata": {
    "scrolled": true
   },
   "outputs": [],
   "source": [
    "# Tech Average\n",
    "tech_df = pd.DataFrame({'Date':[]})\n",
    "tech_house = pd.DataFrame({'Date':[]})\n",
    "for x in ['AAPL', 'AMZN', 'LMT', 'VZ']:\n",
    "    #Stock Data Averaging\n",
    "    stock_csv = pd.read_csv(f'stock_data/{x}_stock.csv')\n",
    "    value_stock = stock_csv['Close']\n",
    "    date_stock = stock_csv['Date']\n",
    "    tech_df[f'Value{x}'] = value_stock\n",
    "    # Housing Data Averaging\n",
    "    house_csv = pd.read_csv(f'house_data/{x}_housing.csv')\n",
    "    value_house = house_csv['Value']\n",
    "    date_house = house_csv['Date']\n",
    "    tech_house[f'Value{x}'] = value_house\n",
    "tech_df['Date'] = date_stock\n",
    "tech_house['Date'] = date_house\n",
    "\n",
    "tech_df.set_index('Date')\n",
    "tech_df['AVG'] = tech_df.mean(axis=1)\n",
    "tech_df.to_csv('industry_data/Tech_stock.csv')\n",
    "\n",
    "tech_house.set_index('Date')\n",
    "tech_house['houseAVG'] = tech_house.mean(axis=1)\n",
    "tech_house.to_csv('industry_data/Tech_house.csv')"
   ]
  },
  {
   "cell_type": "code",
   "execution_count": 108,
   "metadata": {},
   "outputs": [
    {
     "name": "stdout",
     "output_type": "stream",
     "text": [
      "Tech Graph Created\n",
      "Financial Graph Created\n",
      "Other Graph Created\n",
      "Retail Graph Created\n"
     ]
    },
    {
     "data": {
      "text/plain": [
       "<Figure size 1008x864 with 0 Axes>"
      ]
     },
     "metadata": {},
     "output_type": "display_data"
    }
   ],
   "source": [
    "# Graphing industry Averages on loop\n",
    "for x in ['Tech', 'Financial', 'Other', 'Retail']:\n",
    "    stock_csv = pd.read_csv(f'industry_data/{x}_stock.csv')\n",
    "    housing_csv = pd.read_csv(f'industry_data/{x}_house.csv')\n",
    "    housing_price1000 = [(each/1000) for each in housing_csv['houseAVG']]\n",
    "\n",
    "# Add housing plot\n",
    "    mpl.subplot(2, 1, 1)\n",
    "    mpl.plot(housing_csv['Date'], housing_price1000, color='orange')\n",
    "\n",
    "    # Label graph title and y label\n",
    "    mpl.title(f'{x} Industry stock and\\n housing market (2005 to 2015)', fontsize=28)\n",
    "    mpl.ylabel(\"Median Housing Prices\\nin Dollars (x1000)\", labelpad=12, fontsize=20)\n",
    "\n",
    "    # Set tick numbers\n",
    "    mpl.xticks([]) #Remove xlabels for upper graphs\n",
    "    mpl.yticks(np.arange(0, max(housing_price1000)+50, step=50), fontsize=20)\n",
    "\n",
    "    #Set axes limits\n",
    "    mpl.xlim(-1, len(stock_csv['Date']))\n",
    "    mpl.ylim(min(housing_price1000)-50, max(housing_price1000) + 50)\n",
    "\n",
    "# Add Stock plot\n",
    "    mpl.subplot(2, 1, 2)\n",
    "    mpl.plot(stock_csv['Date'], stock_csv['AVG'])\n",
    "\n",
    "    # Label axes\n",
    "    mpl.xlabel(\"Dates\", fontsize=20)\n",
    "    mpl.ylabel(\"Stock Close\\nPrice($)\", labelpad=12, fontsize=20)\n",
    "\n",
    "    # Set axes limits\n",
    "    mpl.xlim(-1, len(stock_csv['Date'])+3)\n",
    "    mpl.ylim(0, max(stock_csv['AVG'])+30)\n",
    "\n",
    "    # Set tick numbers\n",
    "    mpl.xticks(np.arange(0, len(stock_csv['Date'])+3, step=6), rotation=45, fontsize=15)\n",
    "    if max(stock_csv['AVG']) > 300:\n",
    "        mpl.yticks(np.arange(0, max(stock_csv['AVG'])+30, step=100), fontsize=20)\n",
    "    else:\n",
    "        mpl.yticks(np.arange(0, max(stock_csv['AVG'])+30, step=30), fontsize=20)\n",
    "\n",
    "    # set spacing between two blots\n",
    "    mpl.subplots_adjust(hspace=0.1)\n",
    "\n",
    "    # Enlarge figure size\n",
    "    fig=mpl.gcf()\n",
    "    fig.set_size_inches(14, 12)\n",
    "\n",
    "    mpl.savefig(f'stock_graph/{x}_line.png')\n",
    "    mpl.clf()\n",
    "    print(f'{x} Graph Created')"
   ]
  },
  {
   "cell_type": "code",
   "execution_count": null,
   "metadata": {},
   "outputs": [],
   "source": []
  },
  {
   "cell_type": "code",
   "execution_count": null,
   "metadata": {},
   "outputs": [],
   "source": []
  }
 ],
 "metadata": {
  "kernelspec": {
   "display_name": "Python 3",
   "language": "python",
   "name": "python3"
  },
  "language_info": {
   "codemirror_mode": {
    "name": "ipython",
    "version": 3
   },
   "file_extension": ".py",
   "mimetype": "text/x-python",
   "name": "python",
   "nbconvert_exporter": "python",
   "pygments_lexer": "ipython3",
   "version": "3.7.0"
  }
 },
 "nbformat": 4,
 "nbformat_minor": 2
}
